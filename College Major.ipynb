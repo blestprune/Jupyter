{
 "cells": [
  {
   "cell_type": "code",
   "source": [
    "import pandas as pd\n",
    "\n",
    "df = pd.read_csv(\"data/salaries_by_college_major.csv\")"
   ],
   "metadata": {
    "collapsed": false,
    "pycharm": {
     "name": "#%%\n"
    }
   },
   "execution_count": 2,
   "outputs": []
  },
  {
   "cell_type": "markdown",
   "source": [
    "# Preliminary data exploration\n",
    "\n",
    "## Summary\n",
    "- Use `.head()`, `.tail()`, `.shape` and `.columns` to explore your DataFrame and find out\n",
    "    the number of rows and columns as well as the column names.\n",
    "- Look for NaN (not a number) values with `.findna()` and consider using `.dropna()` to clean up your DataFrame.\n",
    "- You can access entire columns of a DataFrame using the square bracket notation: `df['column name']` or\n",
    "    `df[['column name 1', 'column name 2', 'column name 3']]`\n",
    "- You can access individual cells in a DataFrame by chaining square brackets `df['column name'][index]` or\n",
    "    using `df['column name'].loc[index]`\n",
    "- The largest and smallest values, as well as their positions, can be found with methods like `.max()`, `.min()`,\n",
    "    `.idxmax()` and `.idxmin()`\n",
    "- You can sort the DataFrame with `.sort_values()` and add new columns with `.insert()`\n",
    "- To create an Excel Style Pivot Table by grouping entries that belong to a particular category use the `.groupby()`\n",
    "    method\n",
    "\n",
    "### Get the first five rows for visualization."
   ],
   "metadata": {
    "collapsed": false,
    "pycharm": {
     "name": "#%% md\n"
    }
   }
  },
  {
   "cell_type": "code",
   "execution_count": 3,
   "outputs": [
    {
     "data": {
      "text/plain": "     Undergraduate Major  Starting Median Salary  Mid-Career Median Salary  \\\n0             Accounting                 46000.0                   77100.0   \n1  Aerospace Engineering                 57700.0                  101000.0   \n2            Agriculture                 42600.0                   71900.0   \n3           Anthropology                 36800.0                   61500.0   \n4           Architecture                 41600.0                   76800.0   \n\n   Mid-Career 10th Percentile Salary  Mid-Career 90th Percentile Salary  \\\n0                            42200.0                           152000.0   \n1                            64300.0                           161000.0   \n2                            36300.0                           150000.0   \n3                            33800.0                           138000.0   \n4                            50600.0                           136000.0   \n\n      Group  \n0  Business  \n1      STEM  \n2  Business  \n3      HASS  \n4  Business  ",
      "text/html": "<div>\n<style scoped>\n    .dataframe tbody tr th:only-of-type {\n        vertical-align: middle;\n    }\n\n    .dataframe tbody tr th {\n        vertical-align: top;\n    }\n\n    .dataframe thead th {\n        text-align: right;\n    }\n</style>\n<table border=\"1\" class=\"dataframe\">\n  <thead>\n    <tr style=\"text-align: right;\">\n      <th></th>\n      <th>Undergraduate Major</th>\n      <th>Starting Median Salary</th>\n      <th>Mid-Career Median Salary</th>\n      <th>Mid-Career 10th Percentile Salary</th>\n      <th>Mid-Career 90th Percentile Salary</th>\n      <th>Group</th>\n    </tr>\n  </thead>\n  <tbody>\n    <tr>\n      <th>0</th>\n      <td>Accounting</td>\n      <td>46000.0</td>\n      <td>77100.0</td>\n      <td>42200.0</td>\n      <td>152000.0</td>\n      <td>Business</td>\n    </tr>\n    <tr>\n      <th>1</th>\n      <td>Aerospace Engineering</td>\n      <td>57700.0</td>\n      <td>101000.0</td>\n      <td>64300.0</td>\n      <td>161000.0</td>\n      <td>STEM</td>\n    </tr>\n    <tr>\n      <th>2</th>\n      <td>Agriculture</td>\n      <td>42600.0</td>\n      <td>71900.0</td>\n      <td>36300.0</td>\n      <td>150000.0</td>\n      <td>Business</td>\n    </tr>\n    <tr>\n      <th>3</th>\n      <td>Anthropology</td>\n      <td>36800.0</td>\n      <td>61500.0</td>\n      <td>33800.0</td>\n      <td>138000.0</td>\n      <td>HASS</td>\n    </tr>\n    <tr>\n      <th>4</th>\n      <td>Architecture</td>\n      <td>41600.0</td>\n      <td>76800.0</td>\n      <td>50600.0</td>\n      <td>136000.0</td>\n      <td>Business</td>\n    </tr>\n  </tbody>\n</table>\n</div>"
     },
     "execution_count": 3,
     "metadata": {},
     "output_type": "execute_result"
    }
   ],
   "source": [
    "df.head()"
   ],
   "metadata": {
    "collapsed": false,
    "pycharm": {
     "name": "#%%\n"
    }
   }
  },
  {
   "cell_type": "markdown",
   "source": [
    "### Get the number of rows and columns (rows, columns)."
   ],
   "metadata": {
    "collapsed": false,
    "pycharm": {
     "name": "#%% md\n"
    }
   }
  },
  {
   "cell_type": "code",
   "source": [
    "df.shape"
   ],
   "metadata": {
    "collapsed": false,
    "pycharm": {
     "name": "#%%\n"
    }
   },
   "execution_count": 4,
   "outputs": [
    {
     "data": {
      "text/plain": "(51, 6)"
     },
     "execution_count": 4,
     "metadata": {},
     "output_type": "execute_result"
    }
   ]
  },
  {
   "cell_type": "markdown",
   "source": [
    "### Get column names."
   ],
   "metadata": {
    "collapsed": false,
    "pycharm": {
     "name": "#%% md\n"
    }
   }
  },
  {
   "cell_type": "code",
   "execution_count": 5,
   "outputs": [
    {
     "data": {
      "text/plain": "Index(['Undergraduate Major', 'Starting Median Salary',\n       'Mid-Career Median Salary', 'Mid-Career 10th Percentile Salary',\n       'Mid-Career 90th Percentile Salary', 'Group'],\n      dtype='object')"
     },
     "execution_count": 5,
     "metadata": {},
     "output_type": "execute_result"
    }
   ],
   "source": [
    "df.columns"
   ],
   "metadata": {
    "collapsed": false,
    "pycharm": {
     "name": "#%%\n"
    }
   }
  },
  {
   "cell_type": "markdown",
   "source": [
    "### Check for NaN (not a number) entries.\n",
    "- NAN values are blank cells or cells that contain strings instead of numbers"
   ],
   "metadata": {
    "collapsed": false,
    "pycharm": {
     "name": "#%% md\n"
    }
   }
  },
  {
   "cell_type": "code",
   "execution_count": 6,
   "outputs": [
    {
     "data": {
      "text/plain": "    Undergraduate Major  Starting Median Salary  Mid-Career Median Salary  \\\n0                 False                   False                     False   \n1                 False                   False                     False   \n2                 False                   False                     False   \n3                 False                   False                     False   \n4                 False                   False                     False   \n5                 False                   False                     False   \n6                 False                   False                     False   \n7                 False                   False                     False   \n8                 False                   False                     False   \n9                 False                   False                     False   \n10                False                   False                     False   \n11                False                   False                     False   \n12                False                   False                     False   \n13                False                   False                     False   \n14                False                   False                     False   \n15                False                   False                     False   \n16                False                   False                     False   \n17                False                   False                     False   \n18                False                   False                     False   \n19                False                   False                     False   \n20                False                   False                     False   \n21                False                   False                     False   \n22                False                   False                     False   \n23                False                   False                     False   \n24                False                   False                     False   \n25                False                   False                     False   \n26                False                   False                     False   \n27                False                   False                     False   \n28                False                   False                     False   \n29                False                   False                     False   \n30                False                   False                     False   \n31                False                   False                     False   \n32                False                   False                     False   \n33                False                   False                     False   \n34                False                   False                     False   \n35                False                   False                     False   \n36                False                   False                     False   \n37                False                   False                     False   \n38                False                   False                     False   \n39                False                   False                     False   \n40                False                   False                     False   \n41                False                   False                     False   \n42                False                   False                     False   \n43                False                   False                     False   \n44                False                   False                     False   \n45                False                   False                     False   \n46                False                   False                     False   \n47                False                   False                     False   \n48                False                   False                     False   \n49                False                   False                     False   \n50                False                    True                      True   \n\n    Mid-Career 10th Percentile Salary  Mid-Career 90th Percentile Salary  \\\n0                               False                              False   \n1                               False                              False   \n2                               False                              False   \n3                               False                              False   \n4                               False                              False   \n5                               False                              False   \n6                               False                              False   \n7                               False                              False   \n8                               False                              False   \n9                               False                              False   \n10                              False                              False   \n11                              False                              False   \n12                              False                              False   \n13                              False                              False   \n14                              False                              False   \n15                              False                              False   \n16                              False                              False   \n17                              False                              False   \n18                              False                              False   \n19                              False                              False   \n20                              False                              False   \n21                              False                              False   \n22                              False                              False   \n23                              False                              False   \n24                              False                              False   \n25                              False                              False   \n26                              False                              False   \n27                              False                              False   \n28                              False                              False   \n29                              False                              False   \n30                              False                              False   \n31                              False                              False   \n32                              False                              False   \n33                              False                              False   \n34                              False                              False   \n35                              False                              False   \n36                              False                              False   \n37                              False                              False   \n38                              False                              False   \n39                              False                              False   \n40                              False                              False   \n41                              False                              False   \n42                              False                              False   \n43                              False                              False   \n44                              False                              False   \n45                              False                              False   \n46                              False                              False   \n47                              False                              False   \n48                              False                              False   \n49                              False                              False   \n50                               True                               True   \n\n    Group  \n0   False  \n1   False  \n2   False  \n3   False  \n4   False  \n5   False  \n6   False  \n7   False  \n8   False  \n9   False  \n10  False  \n11  False  \n12  False  \n13  False  \n14  False  \n15  False  \n16  False  \n17  False  \n18  False  \n19  False  \n20  False  \n21  False  \n22  False  \n23  False  \n24  False  \n25  False  \n26  False  \n27  False  \n28  False  \n29  False  \n30  False  \n31  False  \n32  False  \n33  False  \n34  False  \n35  False  \n36  False  \n37  False  \n38  False  \n39  False  \n40  False  \n41  False  \n42  False  \n43  False  \n44  False  \n45  False  \n46  False  \n47  False  \n48  False  \n49  False  \n50   True  ",
      "text/html": "<div>\n<style scoped>\n    .dataframe tbody tr th:only-of-type {\n        vertical-align: middle;\n    }\n\n    .dataframe tbody tr th {\n        vertical-align: top;\n    }\n\n    .dataframe thead th {\n        text-align: right;\n    }\n</style>\n<table border=\"1\" class=\"dataframe\">\n  <thead>\n    <tr style=\"text-align: right;\">\n      <th></th>\n      <th>Undergraduate Major</th>\n      <th>Starting Median Salary</th>\n      <th>Mid-Career Median Salary</th>\n      <th>Mid-Career 10th Percentile Salary</th>\n      <th>Mid-Career 90th Percentile Salary</th>\n      <th>Group</th>\n    </tr>\n  </thead>\n  <tbody>\n    <tr>\n      <th>0</th>\n      <td>False</td>\n      <td>False</td>\n      <td>False</td>\n      <td>False</td>\n      <td>False</td>\n      <td>False</td>\n    </tr>\n    <tr>\n      <th>1</th>\n      <td>False</td>\n      <td>False</td>\n      <td>False</td>\n      <td>False</td>\n      <td>False</td>\n      <td>False</td>\n    </tr>\n    <tr>\n      <th>2</th>\n      <td>False</td>\n      <td>False</td>\n      <td>False</td>\n      <td>False</td>\n      <td>False</td>\n      <td>False</td>\n    </tr>\n    <tr>\n      <th>3</th>\n      <td>False</td>\n      <td>False</td>\n      <td>False</td>\n      <td>False</td>\n      <td>False</td>\n      <td>False</td>\n    </tr>\n    <tr>\n      <th>4</th>\n      <td>False</td>\n      <td>False</td>\n      <td>False</td>\n      <td>False</td>\n      <td>False</td>\n      <td>False</td>\n    </tr>\n    <tr>\n      <th>5</th>\n      <td>False</td>\n      <td>False</td>\n      <td>False</td>\n      <td>False</td>\n      <td>False</td>\n      <td>False</td>\n    </tr>\n    <tr>\n      <th>6</th>\n      <td>False</td>\n      <td>False</td>\n      <td>False</td>\n      <td>False</td>\n      <td>False</td>\n      <td>False</td>\n    </tr>\n    <tr>\n      <th>7</th>\n      <td>False</td>\n      <td>False</td>\n      <td>False</td>\n      <td>False</td>\n      <td>False</td>\n      <td>False</td>\n    </tr>\n    <tr>\n      <th>8</th>\n      <td>False</td>\n      <td>False</td>\n      <td>False</td>\n      <td>False</td>\n      <td>False</td>\n      <td>False</td>\n    </tr>\n    <tr>\n      <th>9</th>\n      <td>False</td>\n      <td>False</td>\n      <td>False</td>\n      <td>False</td>\n      <td>False</td>\n      <td>False</td>\n    </tr>\n    <tr>\n      <th>10</th>\n      <td>False</td>\n      <td>False</td>\n      <td>False</td>\n      <td>False</td>\n      <td>False</td>\n      <td>False</td>\n    </tr>\n    <tr>\n      <th>11</th>\n      <td>False</td>\n      <td>False</td>\n      <td>False</td>\n      <td>False</td>\n      <td>False</td>\n      <td>False</td>\n    </tr>\n    <tr>\n      <th>12</th>\n      <td>False</td>\n      <td>False</td>\n      <td>False</td>\n      <td>False</td>\n      <td>False</td>\n      <td>False</td>\n    </tr>\n    <tr>\n      <th>13</th>\n      <td>False</td>\n      <td>False</td>\n      <td>False</td>\n      <td>False</td>\n      <td>False</td>\n      <td>False</td>\n    </tr>\n    <tr>\n      <th>14</th>\n      <td>False</td>\n      <td>False</td>\n      <td>False</td>\n      <td>False</td>\n      <td>False</td>\n      <td>False</td>\n    </tr>\n    <tr>\n      <th>15</th>\n      <td>False</td>\n      <td>False</td>\n      <td>False</td>\n      <td>False</td>\n      <td>False</td>\n      <td>False</td>\n    </tr>\n    <tr>\n      <th>16</th>\n      <td>False</td>\n      <td>False</td>\n      <td>False</td>\n      <td>False</td>\n      <td>False</td>\n      <td>False</td>\n    </tr>\n    <tr>\n      <th>17</th>\n      <td>False</td>\n      <td>False</td>\n      <td>False</td>\n      <td>False</td>\n      <td>False</td>\n      <td>False</td>\n    </tr>\n    <tr>\n      <th>18</th>\n      <td>False</td>\n      <td>False</td>\n      <td>False</td>\n      <td>False</td>\n      <td>False</td>\n      <td>False</td>\n    </tr>\n    <tr>\n      <th>19</th>\n      <td>False</td>\n      <td>False</td>\n      <td>False</td>\n      <td>False</td>\n      <td>False</td>\n      <td>False</td>\n    </tr>\n    <tr>\n      <th>20</th>\n      <td>False</td>\n      <td>False</td>\n      <td>False</td>\n      <td>False</td>\n      <td>False</td>\n      <td>False</td>\n    </tr>\n    <tr>\n      <th>21</th>\n      <td>False</td>\n      <td>False</td>\n      <td>False</td>\n      <td>False</td>\n      <td>False</td>\n      <td>False</td>\n    </tr>\n    <tr>\n      <th>22</th>\n      <td>False</td>\n      <td>False</td>\n      <td>False</td>\n      <td>False</td>\n      <td>False</td>\n      <td>False</td>\n    </tr>\n    <tr>\n      <th>23</th>\n      <td>False</td>\n      <td>False</td>\n      <td>False</td>\n      <td>False</td>\n      <td>False</td>\n      <td>False</td>\n    </tr>\n    <tr>\n      <th>24</th>\n      <td>False</td>\n      <td>False</td>\n      <td>False</td>\n      <td>False</td>\n      <td>False</td>\n      <td>False</td>\n    </tr>\n    <tr>\n      <th>25</th>\n      <td>False</td>\n      <td>False</td>\n      <td>False</td>\n      <td>False</td>\n      <td>False</td>\n      <td>False</td>\n    </tr>\n    <tr>\n      <th>26</th>\n      <td>False</td>\n      <td>False</td>\n      <td>False</td>\n      <td>False</td>\n      <td>False</td>\n      <td>False</td>\n    </tr>\n    <tr>\n      <th>27</th>\n      <td>False</td>\n      <td>False</td>\n      <td>False</td>\n      <td>False</td>\n      <td>False</td>\n      <td>False</td>\n    </tr>\n    <tr>\n      <th>28</th>\n      <td>False</td>\n      <td>False</td>\n      <td>False</td>\n      <td>False</td>\n      <td>False</td>\n      <td>False</td>\n    </tr>\n    <tr>\n      <th>29</th>\n      <td>False</td>\n      <td>False</td>\n      <td>False</td>\n      <td>False</td>\n      <td>False</td>\n      <td>False</td>\n    </tr>\n    <tr>\n      <th>30</th>\n      <td>False</td>\n      <td>False</td>\n      <td>False</td>\n      <td>False</td>\n      <td>False</td>\n      <td>False</td>\n    </tr>\n    <tr>\n      <th>31</th>\n      <td>False</td>\n      <td>False</td>\n      <td>False</td>\n      <td>False</td>\n      <td>False</td>\n      <td>False</td>\n    </tr>\n    <tr>\n      <th>32</th>\n      <td>False</td>\n      <td>False</td>\n      <td>False</td>\n      <td>False</td>\n      <td>False</td>\n      <td>False</td>\n    </tr>\n    <tr>\n      <th>33</th>\n      <td>False</td>\n      <td>False</td>\n      <td>False</td>\n      <td>False</td>\n      <td>False</td>\n      <td>False</td>\n    </tr>\n    <tr>\n      <th>34</th>\n      <td>False</td>\n      <td>False</td>\n      <td>False</td>\n      <td>False</td>\n      <td>False</td>\n      <td>False</td>\n    </tr>\n    <tr>\n      <th>35</th>\n      <td>False</td>\n      <td>False</td>\n      <td>False</td>\n      <td>False</td>\n      <td>False</td>\n      <td>False</td>\n    </tr>\n    <tr>\n      <th>36</th>\n      <td>False</td>\n      <td>False</td>\n      <td>False</td>\n      <td>False</td>\n      <td>False</td>\n      <td>False</td>\n    </tr>\n    <tr>\n      <th>37</th>\n      <td>False</td>\n      <td>False</td>\n      <td>False</td>\n      <td>False</td>\n      <td>False</td>\n      <td>False</td>\n    </tr>\n    <tr>\n      <th>38</th>\n      <td>False</td>\n      <td>False</td>\n      <td>False</td>\n      <td>False</td>\n      <td>False</td>\n      <td>False</td>\n    </tr>\n    <tr>\n      <th>39</th>\n      <td>False</td>\n      <td>False</td>\n      <td>False</td>\n      <td>False</td>\n      <td>False</td>\n      <td>False</td>\n    </tr>\n    <tr>\n      <th>40</th>\n      <td>False</td>\n      <td>False</td>\n      <td>False</td>\n      <td>False</td>\n      <td>False</td>\n      <td>False</td>\n    </tr>\n    <tr>\n      <th>41</th>\n      <td>False</td>\n      <td>False</td>\n      <td>False</td>\n      <td>False</td>\n      <td>False</td>\n      <td>False</td>\n    </tr>\n    <tr>\n      <th>42</th>\n      <td>False</td>\n      <td>False</td>\n      <td>False</td>\n      <td>False</td>\n      <td>False</td>\n      <td>False</td>\n    </tr>\n    <tr>\n      <th>43</th>\n      <td>False</td>\n      <td>False</td>\n      <td>False</td>\n      <td>False</td>\n      <td>False</td>\n      <td>False</td>\n    </tr>\n    <tr>\n      <th>44</th>\n      <td>False</td>\n      <td>False</td>\n      <td>False</td>\n      <td>False</td>\n      <td>False</td>\n      <td>False</td>\n    </tr>\n    <tr>\n      <th>45</th>\n      <td>False</td>\n      <td>False</td>\n      <td>False</td>\n      <td>False</td>\n      <td>False</td>\n      <td>False</td>\n    </tr>\n    <tr>\n      <th>46</th>\n      <td>False</td>\n      <td>False</td>\n      <td>False</td>\n      <td>False</td>\n      <td>False</td>\n      <td>False</td>\n    </tr>\n    <tr>\n      <th>47</th>\n      <td>False</td>\n      <td>False</td>\n      <td>False</td>\n      <td>False</td>\n      <td>False</td>\n      <td>False</td>\n    </tr>\n    <tr>\n      <th>48</th>\n      <td>False</td>\n      <td>False</td>\n      <td>False</td>\n      <td>False</td>\n      <td>False</td>\n      <td>False</td>\n    </tr>\n    <tr>\n      <th>49</th>\n      <td>False</td>\n      <td>False</td>\n      <td>False</td>\n      <td>False</td>\n      <td>False</td>\n      <td>False</td>\n    </tr>\n    <tr>\n      <th>50</th>\n      <td>False</td>\n      <td>True</td>\n      <td>True</td>\n      <td>True</td>\n      <td>True</td>\n      <td>True</td>\n    </tr>\n  </tbody>\n</table>\n</div>"
     },
     "execution_count": 6,
     "metadata": {},
     "output_type": "execute_result"
    }
   ],
   "source": [
    "df.isna()"
   ],
   "metadata": {
    "collapsed": false,
    "pycharm": {
     "name": "#%%\n"
    }
   }
  },
  {
   "cell_type": "markdown",
   "source": [
    "### Check last 5 rows of table."
   ],
   "metadata": {
    "collapsed": false
   }
  },
  {
   "cell_type": "code",
   "execution_count": 7,
   "outputs": [
    {
     "data": {
      "text/plain": "      Undergraduate Major  Starting Median Salary  Mid-Career Median Salary  \\\n46             Psychology                 35900.0                   60400.0   \n47               Religion                 34100.0                   52000.0   \n48              Sociology                 36500.0                   58200.0   \n49                Spanish                 34000.0                   53100.0   \n50  Source: PayScale Inc.                     NaN                       NaN   \n\n    Mid-Career 10th Percentile Salary  Mid-Career 90th Percentile Salary Group  \n46                            31600.0                           127000.0  HASS  \n47                            29700.0                            96400.0  HASS  \n48                            30700.0                           118000.0  HASS  \n49                            31000.0                            96400.0  HASS  \n50                                NaN                                NaN   NaN  ",
      "text/html": "<div>\n<style scoped>\n    .dataframe tbody tr th:only-of-type {\n        vertical-align: middle;\n    }\n\n    .dataframe tbody tr th {\n        vertical-align: top;\n    }\n\n    .dataframe thead th {\n        text-align: right;\n    }\n</style>\n<table border=\"1\" class=\"dataframe\">\n  <thead>\n    <tr style=\"text-align: right;\">\n      <th></th>\n      <th>Undergraduate Major</th>\n      <th>Starting Median Salary</th>\n      <th>Mid-Career Median Salary</th>\n      <th>Mid-Career 10th Percentile Salary</th>\n      <th>Mid-Career 90th Percentile Salary</th>\n      <th>Group</th>\n    </tr>\n  </thead>\n  <tbody>\n    <tr>\n      <th>46</th>\n      <td>Psychology</td>\n      <td>35900.0</td>\n      <td>60400.0</td>\n      <td>31600.0</td>\n      <td>127000.0</td>\n      <td>HASS</td>\n    </tr>\n    <tr>\n      <th>47</th>\n      <td>Religion</td>\n      <td>34100.0</td>\n      <td>52000.0</td>\n      <td>29700.0</td>\n      <td>96400.0</td>\n      <td>HASS</td>\n    </tr>\n    <tr>\n      <th>48</th>\n      <td>Sociology</td>\n      <td>36500.0</td>\n      <td>58200.0</td>\n      <td>30700.0</td>\n      <td>118000.0</td>\n      <td>HASS</td>\n    </tr>\n    <tr>\n      <th>49</th>\n      <td>Spanish</td>\n      <td>34000.0</td>\n      <td>53100.0</td>\n      <td>31000.0</td>\n      <td>96400.0</td>\n      <td>HASS</td>\n    </tr>\n    <tr>\n      <th>50</th>\n      <td>Source: PayScale Inc.</td>\n      <td>NaN</td>\n      <td>NaN</td>\n      <td>NaN</td>\n      <td>NaN</td>\n      <td>NaN</td>\n    </tr>\n  </tbody>\n</table>\n</div>"
     },
     "execution_count": 7,
     "metadata": {},
     "output_type": "execute_result"
    }
   ],
   "source": [
    "df.tail()"
   ],
   "metadata": {
    "collapsed": false,
    "pycharm": {
     "name": "#%%\n"
    }
   }
  },
  {
   "cell_type": "markdown",
   "source": [
    "### Removes NaN values."
   ],
   "metadata": {
    "collapsed": false,
    "pycharm": {
     "name": "#%% md\n"
    }
   }
  },
  {
   "cell_type": "code",
   "execution_count": 8,
   "outputs": [
    {
     "data": {
      "text/plain": "   Undergraduate Major  Starting Median Salary  Mid-Career Median Salary  \\\n45   Political Science                 40800.0                   78200.0   \n46          Psychology                 35900.0                   60400.0   \n47            Religion                 34100.0                   52000.0   \n48           Sociology                 36500.0                   58200.0   \n49             Spanish                 34000.0                   53100.0   \n\n    Mid-Career 10th Percentile Salary  Mid-Career 90th Percentile Salary Group  \n45                            41200.0                           168000.0  HASS  \n46                            31600.0                           127000.0  HASS  \n47                            29700.0                            96400.0  HASS  \n48                            30700.0                           118000.0  HASS  \n49                            31000.0                            96400.0  HASS  ",
      "text/html": "<div>\n<style scoped>\n    .dataframe tbody tr th:only-of-type {\n        vertical-align: middle;\n    }\n\n    .dataframe tbody tr th {\n        vertical-align: top;\n    }\n\n    .dataframe thead th {\n        text-align: right;\n    }\n</style>\n<table border=\"1\" class=\"dataframe\">\n  <thead>\n    <tr style=\"text-align: right;\">\n      <th></th>\n      <th>Undergraduate Major</th>\n      <th>Starting Median Salary</th>\n      <th>Mid-Career Median Salary</th>\n      <th>Mid-Career 10th Percentile Salary</th>\n      <th>Mid-Career 90th Percentile Salary</th>\n      <th>Group</th>\n    </tr>\n  </thead>\n  <tbody>\n    <tr>\n      <th>45</th>\n      <td>Political Science</td>\n      <td>40800.0</td>\n      <td>78200.0</td>\n      <td>41200.0</td>\n      <td>168000.0</td>\n      <td>HASS</td>\n    </tr>\n    <tr>\n      <th>46</th>\n      <td>Psychology</td>\n      <td>35900.0</td>\n      <td>60400.0</td>\n      <td>31600.0</td>\n      <td>127000.0</td>\n      <td>HASS</td>\n    </tr>\n    <tr>\n      <th>47</th>\n      <td>Religion</td>\n      <td>34100.0</td>\n      <td>52000.0</td>\n      <td>29700.0</td>\n      <td>96400.0</td>\n      <td>HASS</td>\n    </tr>\n    <tr>\n      <th>48</th>\n      <td>Sociology</td>\n      <td>36500.0</td>\n      <td>58200.0</td>\n      <td>30700.0</td>\n      <td>118000.0</td>\n      <td>HASS</td>\n    </tr>\n    <tr>\n      <th>49</th>\n      <td>Spanish</td>\n      <td>34000.0</td>\n      <td>53100.0</td>\n      <td>31000.0</td>\n      <td>96400.0</td>\n      <td>HASS</td>\n    </tr>\n  </tbody>\n</table>\n</div>"
     },
     "execution_count": 8,
     "metadata": {},
     "output_type": "execute_result"
    }
   ],
   "source": [
    "clean_df = df.dropna()\n",
    "clean_df.tail()"
   ],
   "metadata": {
    "collapsed": false,
    "pycharm": {
     "name": "#%%\n"
    }
   }
  },
  {
   "cell_type": "markdown",
   "source": [
    "### Access specific column."
   ],
   "metadata": {
    "collapsed": false,
    "pycharm": {
     "name": "#%% md\n"
    }
   }
  },
  {
   "cell_type": "code",
   "execution_count": 9,
   "outputs": [
    {
     "data": {
      "text/plain": "0     46000.0\n1     57700.0\n2     42600.0\n3     36800.0\n4     41600.0\n5     35800.0\n6     38800.0\n7     43000.0\n8     63200.0\n9     42600.0\n10    53900.0\n11    38100.0\n12    61400.0\n13    55900.0\n14    53700.0\n15    35000.0\n16    35900.0\n17    50100.0\n18    34900.0\n19    60900.0\n20    38000.0\n21    37900.0\n22    47900.0\n23    39100.0\n24    41200.0\n25    43500.0\n26    35700.0\n27    38800.0\n28    39200.0\n29    37800.0\n30    57700.0\n31    49100.0\n32    36100.0\n33    40900.0\n34    35600.0\n35    49200.0\n36    40800.0\n37    45400.0\n38    57900.0\n39    35900.0\n40    54200.0\n41    39900.0\n42    39900.0\n43    74300.0\n44    50300.0\n45    40800.0\n46    35900.0\n47    34100.0\n48    36500.0\n49    34000.0\nName: Starting Median Salary, dtype: float64"
     },
     "execution_count": 9,
     "metadata": {},
     "output_type": "execute_result"
    }
   ],
   "source": [
    "clean_df['Starting Median Salary']"
   ],
   "metadata": {
    "collapsed": false,
    "pycharm": {
     "name": "#%%\n"
    }
   }
  },
  {
   "cell_type": "markdown",
   "source": [
    "### Find the maximum value of column."
   ],
   "metadata": {
    "collapsed": false,
    "pycharm": {
     "name": "#%% md\n"
    }
   }
  },
  {
   "cell_type": "code",
   "execution_count": 10,
   "outputs": [
    {
     "data": {
      "text/plain": "74300.0"
     },
     "execution_count": 10,
     "metadata": {},
     "output_type": "execute_result"
    }
   ],
   "source": [
    "clean_df['Starting Median Salary'].max()"
   ],
   "metadata": {
    "collapsed": false,
    "pycharm": {
     "name": "#%%\n"
    }
   }
  },
  {
   "cell_type": "markdown",
   "source": [
    "### Get the index of the max value."
   ],
   "metadata": {
    "collapsed": false,
    "pycharm": {
     "name": "#%% md\n"
    }
   }
  },
  {
   "cell_type": "code",
   "execution_count": 11,
   "outputs": [
    {
     "data": {
      "text/plain": "43"
     },
     "execution_count": 11,
     "metadata": {},
     "output_type": "execute_result"
    }
   ],
   "source": [
    "clean_df['Starting Median Salary'].idxmax()"
   ],
   "metadata": {
    "collapsed": false,
    "pycharm": {
     "name": "#%%\n"
    }
   }
  },
  {
   "cell_type": "markdown",
   "source": [
    "### Access specific row:\n",
    "- .loc[index] if all columns.\n",
    "- [index] if columns specified."
   ],
   "metadata": {
    "collapsed": false,
    "pycharm": {
     "name": "#%% md\n"
    }
   }
  },
  {
   "cell_type": "code",
   "execution_count": 12,
   "outputs": [
    {
     "data": {
      "text/plain": "Undergraduate Major                  Physician Assistant\nStarting Median Salary                           74300.0\nMid-Career Median Salary                         91700.0\nMid-Career 10th Percentile Salary                66400.0\nMid-Career 90th Percentile Salary               124000.0\nGroup                                               STEM\nName: 43, dtype: object"
     },
     "execution_count": 12,
     "metadata": {},
     "output_type": "execute_result"
    }
   ],
   "source": [
    "clean_df.loc[43]"
   ],
   "metadata": {
    "collapsed": false,
    "pycharm": {
     "name": "#%%\n"
    }
   }
  },
  {
   "cell_type": "code",
   "execution_count": 13,
   "outputs": [
    {
     "data": {
      "text/plain": "'Physician Assistant'"
     },
     "execution_count": 13,
     "metadata": {},
     "output_type": "execute_result"
    }
   ],
   "source": [
    "clean_df['Undergraduate Major'][43]"
   ],
   "metadata": {
    "collapsed": false,
    "pycharm": {
     "name": "#%%\n"
    }
   }
  },
  {
   "cell_type": "markdown",
   "source": [
    " ### Exercises\n",
    " - What college major has the highest mid-career salary?\n",
    "    - Chemical Engineering\n",
    " - How much do graduates with this major earn?\n",
    "    - $107.000,00"
   ],
   "metadata": {
    "collapsed": false,
    "pycharm": {
     "name": "#%% md\n"
    }
   }
  },
  {
   "cell_type": "code",
   "execution_count": 14,
   "outputs": [
    {
     "data": {
      "text/plain": "8"
     },
     "execution_count": 14,
     "metadata": {},
     "output_type": "execute_result"
    }
   ],
   "source": [
    "clean_df['Mid-Career Median Salary'].idxmax()"
   ],
   "metadata": {
    "collapsed": false,
    "pycharm": {
     "name": "#%%\n"
    }
   }
  },
  {
   "cell_type": "code",
   "execution_count": 15,
   "outputs": [
    {
     "data": {
      "text/plain": "Undergraduate Major                  Chemical Engineering\nStarting Median Salary                            63200.0\nMid-Career Median Salary                         107000.0\nMid-Career 10th Percentile Salary                 71900.0\nMid-Career 90th Percentile Salary                194000.0\nGroup                                                STEM\nName: 8, dtype: object"
     },
     "execution_count": 15,
     "metadata": {},
     "output_type": "execute_result"
    }
   ],
   "source": [
    "clean_df.loc[8]"
   ],
   "metadata": {
    "collapsed": false,
    "pycharm": {
     "name": "#%%\n"
    }
   }
  },
  {
   "cell_type": "markdown",
   "source": [
    "- Which college major has the lowest starting salary and how much do graduates earn after university?\n",
    "    - Spanish, $34.000,00"
   ],
   "metadata": {
    "collapsed": false
   }
  },
  {
   "cell_type": "code",
   "execution_count": 16,
   "outputs": [
    {
     "data": {
      "text/plain": "49"
     },
     "execution_count": 16,
     "metadata": {},
     "output_type": "execute_result"
    }
   ],
   "source": [
    "clean_df['Starting Median Salary'].idxmin()"
   ],
   "metadata": {
    "collapsed": false,
    "pycharm": {
     "name": "#%%\n"
    }
   }
  },
  {
   "cell_type": "code",
   "execution_count": 17,
   "outputs": [
    {
     "data": {
      "text/plain": "Undergraduate Major                  Spanish\nStarting Median Salary               34000.0\nMid-Career Median Salary             53100.0\nMid-Career 10th Percentile Salary    31000.0\nMid-Career 90th Percentile Salary    96400.0\nGroup                                   HASS\nName: 49, dtype: object"
     },
     "execution_count": 17,
     "metadata": {},
     "output_type": "execute_result"
    }
   ],
   "source": [
    "clean_df.loc[49]"
   ],
   "metadata": {
    "collapsed": false,
    "pycharm": {
     "name": "#%%\n"
    }
   }
  },
  {
   "cell_type": "markdown",
   "source": [
    "- Which college major has the lowest mid-career salary and how much can people expect to earn with this degree?\n",
    "    - Education, $53.100,00"
   ],
   "metadata": {
    "collapsed": false
   }
  },
  {
   "cell_type": "code",
   "execution_count": 18,
   "outputs": [
    {
     "data": {
      "text/plain": "Undergraduate Major                  Education\nStarting Median Salary                 34900.0\nMid-Career Median Salary               52000.0\nMid-Career 10th Percentile Salary      29300.0\nMid-Career 90th Percentile Salary     102000.0\nGroup                                     HASS\nName: 18, dtype: object"
     },
     "execution_count": 18,
     "metadata": {},
     "output_type": "execute_result"
    }
   ],
   "source": [
    "clean_df.loc[clean_df['Mid-Career Median Salary'].idxmin()]"
   ],
   "metadata": {
    "collapsed": false,
    "pycharm": {
     "name": "#%%\n"
    }
   }
  },
  {
   "cell_type": "markdown",
   "source": [
    "### Calculate the difference between the earnings of the 10th and 90th percentile"
   ],
   "metadata": {
    "collapsed": false
   }
  },
  {
   "cell_type": "code",
   "execution_count": 19,
   "outputs": [
    {
     "data": {
      "text/plain": "     Undergraduate Major    Spread  Starting Median Salary  \\\n0             Accounting  109800.0                 46000.0   \n1  Aerospace Engineering   96700.0                 57700.0   \n2            Agriculture  113700.0                 42600.0   \n3           Anthropology  104200.0                 36800.0   \n4           Architecture   85400.0                 41600.0   \n\n   Mid-Career Median Salary  Mid-Career 10th Percentile Salary  \\\n0                   77100.0                            42200.0   \n1                  101000.0                            64300.0   \n2                   71900.0                            36300.0   \n3                   61500.0                            33800.0   \n4                   76800.0                            50600.0   \n\n   Mid-Career 90th Percentile Salary     Group  \n0                           152000.0  Business  \n1                           161000.0      STEM  \n2                           150000.0  Business  \n3                           138000.0      HASS  \n4                           136000.0  Business  ",
      "text/html": "<div>\n<style scoped>\n    .dataframe tbody tr th:only-of-type {\n        vertical-align: middle;\n    }\n\n    .dataframe tbody tr th {\n        vertical-align: top;\n    }\n\n    .dataframe thead th {\n        text-align: right;\n    }\n</style>\n<table border=\"1\" class=\"dataframe\">\n  <thead>\n    <tr style=\"text-align: right;\">\n      <th></th>\n      <th>Undergraduate Major</th>\n      <th>Spread</th>\n      <th>Starting Median Salary</th>\n      <th>Mid-Career Median Salary</th>\n      <th>Mid-Career 10th Percentile Salary</th>\n      <th>Mid-Career 90th Percentile Salary</th>\n      <th>Group</th>\n    </tr>\n  </thead>\n  <tbody>\n    <tr>\n      <th>0</th>\n      <td>Accounting</td>\n      <td>109800.0</td>\n      <td>46000.0</td>\n      <td>77100.0</td>\n      <td>42200.0</td>\n      <td>152000.0</td>\n      <td>Business</td>\n    </tr>\n    <tr>\n      <th>1</th>\n      <td>Aerospace Engineering</td>\n      <td>96700.0</td>\n      <td>57700.0</td>\n      <td>101000.0</td>\n      <td>64300.0</td>\n      <td>161000.0</td>\n      <td>STEM</td>\n    </tr>\n    <tr>\n      <th>2</th>\n      <td>Agriculture</td>\n      <td>113700.0</td>\n      <td>42600.0</td>\n      <td>71900.0</td>\n      <td>36300.0</td>\n      <td>150000.0</td>\n      <td>Business</td>\n    </tr>\n    <tr>\n      <th>3</th>\n      <td>Anthropology</td>\n      <td>104200.0</td>\n      <td>36800.0</td>\n      <td>61500.0</td>\n      <td>33800.0</td>\n      <td>138000.0</td>\n      <td>HASS</td>\n    </tr>\n    <tr>\n      <th>4</th>\n      <td>Architecture</td>\n      <td>85400.0</td>\n      <td>41600.0</td>\n      <td>76800.0</td>\n      <td>50600.0</td>\n      <td>136000.0</td>\n      <td>Business</td>\n    </tr>\n  </tbody>\n</table>\n</div>"
     },
     "execution_count": 19,
     "metadata": {},
     "output_type": "execute_result"
    }
   ],
   "source": [
    "spread = clean_df['Mid-Career 90th Percentile Salary'] - clean_df['Mid-Career 10th Percentile Salary']\n",
    "clean_df.insert(1, 'Spread', spread)\n",
    "clean_df.head()"
   ],
   "metadata": {
    "collapsed": false,
    "pycharm": {
     "name": "#%%\n"
    }
   }
  },
  {
   "cell_type": "code",
   "execution_count": 20,
   "outputs": [
    {
     "data": {
      "text/plain": "           Undergraduate Major   Spread\n40                     Nursing  50700.0\n43         Physician Assistant  57600.0\n41                   Nutrition  65300.0\n49                     Spanish  65400.0\n27  Health Care Administration  66400.0",
      "text/html": "<div>\n<style scoped>\n    .dataframe tbody tr th:only-of-type {\n        vertical-align: middle;\n    }\n\n    .dataframe tbody tr th {\n        vertical-align: top;\n    }\n\n    .dataframe thead th {\n        text-align: right;\n    }\n</style>\n<table border=\"1\" class=\"dataframe\">\n  <thead>\n    <tr style=\"text-align: right;\">\n      <th></th>\n      <th>Undergraduate Major</th>\n      <th>Spread</th>\n    </tr>\n  </thead>\n  <tbody>\n    <tr>\n      <th>40</th>\n      <td>Nursing</td>\n      <td>50700.0</td>\n    </tr>\n    <tr>\n      <th>43</th>\n      <td>Physician Assistant</td>\n      <td>57600.0</td>\n    </tr>\n    <tr>\n      <th>41</th>\n      <td>Nutrition</td>\n      <td>65300.0</td>\n    </tr>\n    <tr>\n      <th>49</th>\n      <td>Spanish</td>\n      <td>65400.0</td>\n    </tr>\n    <tr>\n      <th>27</th>\n      <td>Health Care Administration</td>\n      <td>66400.0</td>\n    </tr>\n  </tbody>\n</table>\n</div>"
     },
     "execution_count": 20,
     "metadata": {},
     "output_type": "execute_result"
    }
   ],
   "source": [
    "low_risk = clean_df.sort_values('Spread')\n",
    "low_risk[['Undergraduate Major', 'Spread']].head()"
   ],
   "metadata": {
    "collapsed": false,
    "pycharm": {
     "name": "#%%\n"
    }
   }
  },
  {
   "cell_type": "markdown",
   "source": [
    "### Find the top 5 degrees with the highest values in the 90th percentile.\n",
    "- Economics, 210000.0\n",
    "- Finance, 195000.0\n",
    "- Chemical Engineering, 194000.0\n",
    "- Math, 183000.0\n",
    "- Physics, 178000.0"
   ],
   "metadata": {
    "collapsed": false
   }
  },
  {
   "cell_type": "code",
   "execution_count": 21,
   "outputs": [
    {
     "data": {
      "text/plain": "     Undergraduate Major  Mid-Career 90th Percentile Salary\n17             Economics                           210000.0\n22               Finance                           195000.0\n8   Chemical Engineering                           194000.0\n37                  Math                           183000.0\n44               Physics                           178000.0",
      "text/html": "<div>\n<style scoped>\n    .dataframe tbody tr th:only-of-type {\n        vertical-align: middle;\n    }\n\n    .dataframe tbody tr th {\n        vertical-align: top;\n    }\n\n    .dataframe thead th {\n        text-align: right;\n    }\n</style>\n<table border=\"1\" class=\"dataframe\">\n  <thead>\n    <tr style=\"text-align: right;\">\n      <th></th>\n      <th>Undergraduate Major</th>\n      <th>Mid-Career 90th Percentile Salary</th>\n    </tr>\n  </thead>\n  <tbody>\n    <tr>\n      <th>17</th>\n      <td>Economics</td>\n      <td>210000.0</td>\n    </tr>\n    <tr>\n      <th>22</th>\n      <td>Finance</td>\n      <td>195000.0</td>\n    </tr>\n    <tr>\n      <th>8</th>\n      <td>Chemical Engineering</td>\n      <td>194000.0</td>\n    </tr>\n    <tr>\n      <th>37</th>\n      <td>Math</td>\n      <td>183000.0</td>\n    </tr>\n    <tr>\n      <th>44</th>\n      <td>Physics</td>\n      <td>178000.0</td>\n    </tr>\n  </tbody>\n</table>\n</div>"
     },
     "execution_count": 21,
     "metadata": {},
     "output_type": "execute_result"
    }
   ],
   "source": [
    "high_potential = clean_df.sort_values('Mid-Career 90th Percentile Salary', ascending=False)\n",
    "high_potential[['Undergraduate Major', 'Mid-Career 90th Percentile Salary']].head()"
   ],
   "metadata": {
    "collapsed": false,
    "pycharm": {
     "name": "#%%\n"
    }
   }
  },
  {
   "cell_type": "markdown",
   "source": [
    "### Grouping and Pivoting Data with Pandas\n",
    "- We have three categories in the 'Group' column: STEM, HASS and Business."
   ],
   "metadata": {
    "collapsed": false
   }
  },
  {
   "cell_type": "code",
   "execution_count": 22,
   "outputs": [
    {
     "data": {
      "text/plain": "          Undergraduate Major  Spread  Starting Median Salary  \\\nGroup                                                           \nBusiness                   12      12                      12   \nHASS                       22      22                      22   \nSTEM                       16      16                      16   \n\n          Mid-Career Median Salary  Mid-Career 10th Percentile Salary  \\\nGroup                                                                   \nBusiness                        12                                 12   \nHASS                            22                                 22   \nSTEM                            16                                 16   \n\n          Mid-Career 90th Percentile Salary  \nGroup                                        \nBusiness                                 12  \nHASS                                     22  \nSTEM                                     16  ",
      "text/html": "<div>\n<style scoped>\n    .dataframe tbody tr th:only-of-type {\n        vertical-align: middle;\n    }\n\n    .dataframe tbody tr th {\n        vertical-align: top;\n    }\n\n    .dataframe thead th {\n        text-align: right;\n    }\n</style>\n<table border=\"1\" class=\"dataframe\">\n  <thead>\n    <tr style=\"text-align: right;\">\n      <th></th>\n      <th>Undergraduate Major</th>\n      <th>Spread</th>\n      <th>Starting Median Salary</th>\n      <th>Mid-Career Median Salary</th>\n      <th>Mid-Career 10th Percentile Salary</th>\n      <th>Mid-Career 90th Percentile Salary</th>\n    </tr>\n    <tr>\n      <th>Group</th>\n      <th></th>\n      <th></th>\n      <th></th>\n      <th></th>\n      <th></th>\n      <th></th>\n    </tr>\n  </thead>\n  <tbody>\n    <tr>\n      <th>Business</th>\n      <td>12</td>\n      <td>12</td>\n      <td>12</td>\n      <td>12</td>\n      <td>12</td>\n      <td>12</td>\n    </tr>\n    <tr>\n      <th>HASS</th>\n      <td>22</td>\n      <td>22</td>\n      <td>22</td>\n      <td>22</td>\n      <td>22</td>\n      <td>22</td>\n    </tr>\n    <tr>\n      <th>STEM</th>\n      <td>16</td>\n      <td>16</td>\n      <td>16</td>\n      <td>16</td>\n      <td>16</td>\n      <td>16</td>\n    </tr>\n  </tbody>\n</table>\n</div>"
     },
     "execution_count": 22,
     "metadata": {},
     "output_type": "execute_result"
    }
   ],
   "source": [
    "clean_df.groupby('Group').count()"
   ],
   "metadata": {
    "collapsed": false,
    "pycharm": {
     "name": "#%%\n"
    }
   }
  },
  {
   "cell_type": "code",
   "execution_count": 23,
   "outputs": [
    {
     "data": {
      "text/plain": "             Spread  Starting Median Salary  Mid-Career Median Salary  \\\nGroup                                                                   \nBusiness 103,958.33               44,633.33                 75,083.33   \nHASS      95,218.18               37,186.36                 62,968.18   \nSTEM     101,600.00               53,862.50                 90,812.50   \n\n          Mid-Career 10th Percentile Salary  Mid-Career 90th Percentile Salary  \nGroup                                                                           \nBusiness                          43,566.67                         147,525.00  \nHASS                              34,145.45                         129,363.64  \nSTEM                              56,025.00                         157,625.00  ",
      "text/html": "<div>\n<style scoped>\n    .dataframe tbody tr th:only-of-type {\n        vertical-align: middle;\n    }\n\n    .dataframe tbody tr th {\n        vertical-align: top;\n    }\n\n    .dataframe thead th {\n        text-align: right;\n    }\n</style>\n<table border=\"1\" class=\"dataframe\">\n  <thead>\n    <tr style=\"text-align: right;\">\n      <th></th>\n      <th>Spread</th>\n      <th>Starting Median Salary</th>\n      <th>Mid-Career Median Salary</th>\n      <th>Mid-Career 10th Percentile Salary</th>\n      <th>Mid-Career 90th Percentile Salary</th>\n    </tr>\n    <tr>\n      <th>Group</th>\n      <th></th>\n      <th></th>\n      <th></th>\n      <th></th>\n      <th></th>\n    </tr>\n  </thead>\n  <tbody>\n    <tr>\n      <th>Business</th>\n      <td>103,958.33</td>\n      <td>44,633.33</td>\n      <td>75,083.33</td>\n      <td>43,566.67</td>\n      <td>147,525.00</td>\n    </tr>\n    <tr>\n      <th>HASS</th>\n      <td>95,218.18</td>\n      <td>37,186.36</td>\n      <td>62,968.18</td>\n      <td>34,145.45</td>\n      <td>129,363.64</td>\n    </tr>\n    <tr>\n      <th>STEM</th>\n      <td>101,600.00</td>\n      <td>53,862.50</td>\n      <td>90,812.50</td>\n      <td>56,025.00</td>\n      <td>157,625.00</td>\n    </tr>\n  </tbody>\n</table>\n</div>"
     },
     "execution_count": 23,
     "metadata": {},
     "output_type": "execute_result"
    }
   ],
   "source": [
    "pd.options.display.float_format = '{:,.2f}'.format\n",
    "clean_df.groupby('Group').mean()"
   ],
   "metadata": {
    "collapsed": false,
    "pycharm": {
     "name": "#%%\n"
    }
   }
  }
 ],
 "metadata": {
  "kernelspec": {
   "display_name": "Python 3",
   "language": "python",
   "name": "python3"
  },
  "language_info": {
   "codemirror_mode": {
    "name": "ipython",
    "version": 2
   },
   "file_extension": ".py",
   "mimetype": "text/x-python",
   "name": "python",
   "nbconvert_exporter": "python",
   "pygments_lexer": "ipython2",
   "version": "2.7.6"
  }
 },
 "nbformat": 4,
 "nbformat_minor": 0
}